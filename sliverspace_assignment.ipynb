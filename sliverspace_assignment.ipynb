{
 "cells": [
  {
   "cell_type": "markdown",
   "id": "0c243408",
   "metadata": {},
   "source": [
    "### POTATO Twitter Data Analysis\n",
    "\n",
    "### Overview\n",
    "This project allows you to analyze Twitter data from POTATO (the Panel-based Open Term-level Aggregate Twitter Observatory). You can query tweets to extract key information such as the number of tweets, unique users, and more.\n",
    "\n",
    "### Setup Instructions\n",
    "1. Clone the repository:\n",
    "   ```bash\n",
    "   git clone https://github.com/YOUR_USERNAME/POTATO-Twitter-Analysis.git\n",
    "   cd POTATO-Twitter-Analysis\n",
    "\n",
    "\n",
    "### Part 3: How to Use the System\n",
    "\n",
    "### Step 1: Setup the Environment\n",
    "\n",
    "To use the system, ensure that the following Python libraries are installed:\n",
    "- pandas\n",
    "- numpy\n",
    "- matplotlib\n",
    "\n",
    "You can install them using `pip` by running the following command in a code cell:\n",
    "```bash\n",
    "!pip install pandas numpy matplotlib"
   ]
  },
  {
   "cell_type": "markdown",
   "id": "3a4f1709",
   "metadata": {},
   "source": [
    "## Design Choices\n",
    "1. **Data Structure**: The dataset is ingested into a `pandas` DataFrame for efficient manipulation and analysis.\n",
    "2. **Datetime Handling**: We converted timestamps into `datetime` objects, enabling easier extraction of day, hour, and month for time-based queries.\n",
    "3. **Querying**: We use `pandas` filtering and grouping to extract tweet-related information (e.g., unique users, tweet counts, etc.).\n",
    "\n",
    "We chose `pandas` because it is efficient for handling large datasets and offers powerful data manipulation functions, such as filtering and aggregation.\n"
   ]
  },
  {
   "cell_type": "code",
   "execution_count": null,
   "id": "6f88b2e0",
   "metadata": {},
   "outputs": [],
   "source": [
    "import pandas as pd\n",
    "\n",
    "# Set option to display all columns\n",
    "pd.set_option('display.max_columns', None)\n",
    "# Loading the smaller TSV file\n",
    "file_path = 'correct_twitter_201904.tsv'\n",
    "tweet_data = pd.read_csv(file_path, sep='\\t')\n",
    "\n",
    "# Display the first few rows\n",
    "tweet_data.head()"
   ]
  },
  {
   "cell_type": "code",
   "execution_count": 17,
   "id": "99de8aa9",
   "metadata": {
    "scrolled": true
   },
   "outputs": [
    {
     "name": "stdout",
     "output_type": "stream",
     "text": [
      "<class 'pandas.core.frame.DataFrame'>\n",
      "RangeIndex: 88037 entries, 0 to 88036\n",
      "Data columns (total 46 columns):\n",
      " #   Column                         Non-Null Count  Dtype \n",
      "---  ------                         --------------  ----- \n",
      " 0   id                             88037 non-null  int64 \n",
      " 1   event                          88037 non-null  object\n",
      " 2   ts1                            88037 non-null  object\n",
      " 3    ts2                           88037 non-null  object\n",
      " 4   from_stream                    88037 non-null  bool  \n",
      " 5   directly_from_stream           88037 non-null  bool  \n",
      " 6   from_search                    88037 non-null  bool  \n",
      " 7   directly_from_search           88037 non-null  bool  \n",
      " 8   from_quote_search              88037 non-null  bool  \n",
      " 9   directly_from_quote_search     88037 non-null  bool  \n",
      " 10  from_convo_search              88037 non-null  bool  \n",
      " 11  directly_from_convo_search     88037 non-null  bool  \n",
      " 12  from_timeline_search           88037 non-null  bool  \n",
      " 13  directly_from_timeline_search  88037 non-null  bool  \n",
      " 14  text                           88037 non-null  object\n",
      " 15  lang                           88037 non-null  object\n",
      " 16  author_id                      88037 non-null  int64 \n",
      " 17  author_handle                  88037 non-null  object\n",
      " 18  created_at                     88037 non-null  object\n",
      " 19  conversation_id                88037 non-null  int64 \n",
      " 20  possibly_sensitive             88037 non-null  bool  \n",
      " 21  reply_settings                 88037 non-null  object\n",
      " 22  source                         88037 non-null  object\n",
      " 23  author_follower_count          88037 non-null  int64 \n",
      " 24  retweet_count                  88037 non-null  int64 \n",
      " 25  reply_count                    88037 non-null  int64 \n",
      " 26  like_count                     88037 non-null  int64 \n",
      " 27  quote_count                    88037 non-null  int64 \n",
      " 28  replied_to                     88037 non-null  object\n",
      " 29  replied_to_author_id           88037 non-null  object\n",
      " 30  replied_to_handle              88037 non-null  object\n",
      " 31  replied_to_follower_count      88037 non-null  object\n",
      " 32  quoted                         88037 non-null  object\n",
      " 33  quoted_author_id               88037 non-null  object\n",
      " 34  quoted_handle                  88037 non-null  object\n",
      " 35  quoted_follower_count          88037 non-null  object\n",
      " 36  retweeted                      88037 non-null  object\n",
      " 37  retweeted_author_id            88037 non-null  object\n",
      " 38  retweeted_handle               88037 non-null  object\n",
      " 39  retweeted_follower_count       88037 non-null  object\n",
      " 40  mentioned_author_ids           88037 non-null  object\n",
      " 41  mentioned_handles              88037 non-null  object\n",
      " 42  hashtags                       88037 non-null  object\n",
      " 43  urls                           88037 non-null  object\n",
      " 44  media_keys                     88037 non-null  object\n",
      " 45  place_id                       88037 non-null  object\n",
      "dtypes: bool(11), int64(8), object(27)\n",
      "memory usage: 24.4+ MB\n"
     ]
    }
   ],
   "source": [
    "tweet_data.info()"
   ]
  },
  {
   "cell_type": "raw",
   "id": "4db82e9e",
   "metadata": {},
   "source": [
    "#checking null values\n",
    "tweet_data.isnull().sum()"
   ]
  },
  {
   "cell_type": "code",
   "execution_count": 18,
   "id": "29887439",
   "metadata": {
    "scrolled": true
   },
   "outputs": [
    {
     "data": {
      "text/plain": [
       "0"
      ]
     },
     "execution_count": 18,
     "metadata": {},
     "output_type": "execute_result"
    }
   ],
   "source": [
    "tweet_data.duplicated().sum()"
   ]
  },
  {
   "cell_type": "code",
   "execution_count": 19,
   "id": "28b48300",
   "metadata": {},
   "outputs": [],
   "source": [
    "# Lowercase tweet content and remove extra spaces\n",
    "tweet_data['text'] = tweet_data['text'].str.lower().str.strip()\n",
    "\n",
    "# Remove any non-alphabetical characters (optional, depends on your goal)\n",
    "tweet_data['text'] = tweet_data['text'].str.replace('[^\\w\\s]', '', regex=True)"
   ]
  },
  {
   "cell_type": "code",
   "execution_count": 20,
   "id": "32d4986b",
   "metadata": {},
   "outputs": [],
   "source": [
    "# Strip any leading or trailing spaces from column names\n",
    "tweet_data.columns = tweet_data.columns.str.strip()\n",
    "\n",
    "# Now you can convert the timestamps\n",
    "tweet_data['ts1'] = pd.to_datetime(tweet_data['ts1'])\n",
    "tweet_data['ts2'] = pd.to_datetime(tweet_data['ts2'])"
   ]
  },
  {
   "cell_type": "code",
   "execution_count": 21,
   "id": "af00f4b5",
   "metadata": {},
   "outputs": [],
   "source": [
    "tweet_data['hour'] = tweet_data['ts1'].dt.hour\n",
    "tweet_data['day_of_week'] = tweet_data['ts1'].dt.day_name()\n",
    "tweet_data['month'] = tweet_data['ts1'].dt.month"
   ]
  },
  {
   "cell_type": "code",
   "execution_count": 23,
   "id": "3a517035",
   "metadata": {},
   "outputs": [],
   "source": [
    "# Example term to search for\n",
    "search_term = \"music\"\n",
    "\n",
    "# Filter the tweets that contain the search term\n",
    "filtered_data = tweet_data[tweet_data['text'].str.contains(search_term, case=False, na=False)]\n"
   ]
  },
  {
   "cell_type": "code",
   "execution_count": 24,
   "id": "32b46180",
   "metadata": {},
   "outputs": [
    {
     "name": "stderr",
     "output_type": "stream",
     "text": [
      "C:\\Users\\namra\\AppData\\Local\\Temp\\ipykernel_4304\\1783214287.py:4: SettingWithCopyWarning: \n",
      "A value is trying to be set on a copy of a slice from a DataFrame.\n",
      "Try using .loc[row_indexer,col_indexer] = value instead\n",
      "\n",
      "See the caveats in the documentation: https://pandas.pydata.org/pandas-docs/stable/user_guide/indexing.html#returning-a-view-versus-a-copy\n",
      "  filtered_data['date'] = filtered_data['ts1'].dt.date\n"
     ]
    },
    {
     "data": {
      "text/plain": [
       "date\n",
       "2022-01-04      66\n",
       "2022-02-28    2935\n",
       "Name: text, dtype: int64"
      ]
     },
     "execution_count": 24,
     "metadata": {},
     "output_type": "execute_result"
    }
   ],
   "source": [
    "#part2 Question1\n",
    "#How Many Tweets Were Posted Containing the Term on Each Day?\n",
    "# Extract the date from the timestamp\n",
    "filtered_data['date'] = filtered_data['ts1'].dt.date\n",
    "\n",
    "# Group by date and count tweets\n",
    "tweets_per_day = filtered_data.groupby('date')['text'].count()\n",
    "\n",
    "# Display results\n",
    "tweets_per_day\n"
   ]
  },
  {
   "cell_type": "code",
   "execution_count": 35,
   "id": "ec1fb86a",
   "metadata": {},
   "outputs": [
    {
     "name": "stdout",
     "output_type": "stream",
     "text": [
      "Number of unique users who tweeted about 'music': 3001\n"
     ]
    }
   ],
   "source": [
    "#How Many Unique Users Posted a Tweet Containing the Term?\n",
    "unique_users = filtered_data['id'].nunique()\n",
    "# Display result\n",
    "print(f\"Number of unique users who tweeted about '{search_term}':\", unique_users)"
   ]
  },
  {
   "cell_type": "code",
   "execution_count": 36,
   "id": "aee6bee9",
   "metadata": {},
   "outputs": [
    {
     "name": "stdout",
     "output_type": "stream",
     "text": [
      "Average likes for tweets containing 'music': 161.40853048983672\n"
     ]
    }
   ],
   "source": [
    "#How Many Likes Did Tweets Containing the Term Get, on Average?\n",
    "# Calculate the average number of likes\n",
    "average_likes = filtered_data['like_count'].mean()\n",
    "\n",
    "# Display result\n",
    "print(f\"Average likes for tweets containing '{search_term}':\", average_likes)\n"
   ]
  },
  {
   "cell_type": "code",
   "execution_count": 37,
   "id": "de8ca7ff",
   "metadata": {},
   "outputs": [
    {
     "name": "stdout",
     "output_type": "stream",
     "text": [
      "Place IDs where tweets containing 'music' were posted from: ['None' '53504716d445dcad' 'ab2f2fac83aa388d' '0113afc024d5e0bc'\n",
      " '300bcc6e23a88361' '8e9665cec9370f0f' 'd56c5babcffde8ef'\n",
      " '01153d1b33e1641b' '09f6a7707f18e0b1' '714789cf3b7a50d0'\n",
      " '01fbe706f872cb32' '1a7a70d4a28e96a1' 'f97108ab3c4a42ed'\n",
      " 'ac88a4f17a51c7fc' '5de8cffc145c486b' '3f7a925ec706ea48'\n",
      " '001aff55522d96c9' '4c8e28554110ebcf' '5c62ffb0f0f3479d'\n",
      " '3b77caf94bfc81fe' 'ecbe2aea853af44e' 'de599025180e2ee7'\n",
      " '00b673715a35dfa7' '43d2418301bf1a49' '07e9c7d1954fff64'\n",
      " '0570f015c264cbd9' '0149775319466b18' '91890dbb74364d63'\n",
      " '01ddb0100b1efd97' 'b49b3053b5c25bf5' '7cb7440bcf83d464'\n",
      " '151b9e91272233d1' '9d63050d3d33d32f' '140800566259f12f'\n",
      " '743df94d8dcb69a6' '8bc4eeacf63235f9' '8943f93b51e3f357'\n",
      " '2bc7c264a080898b' '814cfc71b843ff40' '2b8922cbe7f16337'\n",
      " '7de31e05e99a00f8']\n"
     ]
    }
   ],
   "source": [
    "#Where (in Terms of Place IDs) Did the Tweets Come From?\n",
    "# Get unique place IDs where the tweets came from\n",
    "place_ids = filtered_data['place_id'].unique()\n",
    "\n",
    "# Display result\n",
    "print(f\"Place IDs where tweets containing '{search_term}' were posted from:\", place_ids)\n"
   ]
  },
  {
   "cell_type": "code",
   "execution_count": 38,
   "id": "0c51e9fe",
   "metadata": {},
   "outputs": [
    {
     "name": "stdout",
     "output_type": "stream",
     "text": [
      "Number of tweets containing the term posted at each hour of the day:\n",
      "hour\n",
      "9     2935\n",
      "15      66\n",
      "Name: text, dtype: int64\n"
     ]
    },
    {
     "name": "stderr",
     "output_type": "stream",
     "text": [
      "C:\\Users\\namra\\AppData\\Local\\Temp\\ipykernel_4304\\1245162225.py:3: SettingWithCopyWarning: \n",
      "A value is trying to be set on a copy of a slice from a DataFrame.\n",
      "Try using .loc[row_indexer,col_indexer] = value instead\n",
      "\n",
      "See the caveats in the documentation: https://pandas.pydata.org/pandas-docs/stable/user_guide/indexing.html#returning-a-view-versus-a-copy\n",
      "  filtered_data['hour'] = filtered_data['ts1'].dt.hour\n"
     ]
    }
   ],
   "source": [
    "#What Times of Day Were the Tweets Posted?\n",
    "# Extract the hour from the timestamp\n",
    "filtered_data['hour'] = filtered_data['ts1'].dt.hour\n",
    "\n",
    "# Group by hour and count tweets\n",
    "tweets_per_hour = filtered_data.groupby('hour')['text'].count()\n",
    "\n",
    "# Display results\n",
    "print(\"Number of tweets containing the term posted at each hour of the day:\")\n",
    "print(tweets_per_hour)\n"
   ]
  },
  {
   "cell_type": "code",
   "execution_count": 39,
   "id": "ad0e6310",
   "metadata": {},
   "outputs": [
    {
     "name": "stdout",
     "output_type": "stream",
     "text": [
      "User ID 1105473618237181955 posted the most tweets containing 'music', with 1 tweets.\n"
     ]
    }
   ],
   "source": [
    "#Which User Posted the Most Tweets Containing the Term?\n",
    "# Group by user and count tweets\n",
    "user_tweet_counts = filtered_data.groupby('id')['text'].count()\n",
    "\n",
    "# Find the user who posted the most tweets\n",
    "most_active_user = user_tweet_counts.idxmax()\n",
    "most_tweets = user_tweet_counts.max()\n",
    "\n",
    "# Display result\n",
    "print(f\"User ID {most_active_user} posted the most tweets containing '{search_term}', with {most_tweets} tweets.\")\n"
   ]
  },
  {
   "cell_type": "code",
   "execution_count": null,
   "id": "60bd6d1c",
   "metadata": {},
   "outputs": [],
   "source": []
  }
 ],
 "metadata": {
  "kernelspec": {
   "display_name": "Python 3 (ipykernel)",
   "language": "python",
   "name": "python3"
  },
  "language_info": {
   "codemirror_mode": {
    "name": "ipython",
    "version": 3
   },
   "file_extension": ".py",
   "mimetype": "text/x-python",
   "name": "python",
   "nbconvert_exporter": "python",
   "pygments_lexer": "ipython3",
   "version": "3.10.9"
  }
 },
 "nbformat": 4,
 "nbformat_minor": 5
}
